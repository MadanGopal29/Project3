{
 "cells": [
  {
   "cell_type": "markdown",
   "id": "899421f0",
   "metadata": {},
   "source": [
    "import gradio as gr\n",
    "from transformers import T5ForConditionalGeneration, T5Tokenizer, AutoModelForSequenceClassification, AutoTokenizer\n",
    "\n",
    "# Initialize models and tokenizers\n",
    "model_summarization = T5ForConditionalGeneration.from_pretrained('t5-small')\n",
    "tokenizer_summarization = T5Tokenizer.from_pretrained('t5-small')\n",
    "\n",
    "model_sentiment = AutoModelForSequenceClassification.from_pretrained('sentence-transformers/all-MiniLM-L6-v2')\n",
    "tokenizer_sentiment = AutoTokenizer.from_pretrained('sentence-transformers/all-MiniLM-L6-v2')\n",
    "\n",
    "# Define summarization function\n",
    "def summarize_text(text, out_length):\n",
    "    inputs = tokenizer_summarization.encode(\n",
    "        \"summarize: \" + text,\n",
    "        return_tensors='pt',\n",
    "        max_length=512,\n",
    "        truncation=True,\n",
    "        padding='max_length'\n",
    "    )\n",
    "    summary_ids = model_summarization.generate(\n",
    "        inputs,\n",
    "        max_length=out_length,\n",
    "        num_beams=5\n",
    "    )\n",
    "    return tokenizer_summarization.decode(summary_ids[0], skip_special_tokens=True)\n",
    "\n",
    "# Define sentiment analysis function\n",
    "def predict_sentiment(text):\n",
    "    inputs = tokenizer_sentiment(text, return_tensors='pt')\n",
    "    outputs = model_sentiment(**inputs)\n",
    "    sentiment = 'Positive' if outputs.logits.argmax().item() ==   1 else 'Negative'\n",
    "    return sentiment\n",
    "\n",
    "# Define a wrapper function that decides whether to summarize or analyze sentiment\n",
    "def summarize_or_analyze(text, task, out_length):\n",
    "    if task == 'summarize':\n",
    "        return summarize_text(text, out_length)\n",
    "    elif task == 'analyze sentiment':\n",
    "        return predict_sentiment(text)\n",
    "    else:\n",
    "        return \"Invalid task selected.\"\n",
    "\n",
    "# Create Gradio interface with conditional logic\n",
    "iface = gr.Interface(\n",
    "    fn=summarize_or_analyze,\n",
    "    inputs=[gr.Textbox(lines=10, placeholder='Enter Text Here...', label='Input text'),  \n",
    "            gr.Radio(['summarize', 'analyze sentiment'], label='Task')],\n",
    "    outputs=gr.Textbox(label='Result'),\n",
    "    title='Text Summarizer & Sentiment Analyzer'\n",
    ")\n",
    "\n",
    "# Launch the Gradio app\n",
    "iface.launch()"
   ]
  },
  {
   "cell_type": "code",
   "execution_count": 10,
   "id": "43644280",
   "metadata": {},
   "outputs": [],
   "source": [
    "import gradio as gr\n",
    "from transformers import T5ForConditionalGeneration, T5Tokenizer, AutoModelForSequenceClassification, AutoTokenizer"
   ]
  },
  {
   "cell_type": "code",
   "execution_count": 11,
   "id": "3a1d15a3",
   "metadata": {},
   "outputs": [
    {
     "name": "stderr",
     "output_type": "stream",
     "text": [
      "Special tokens have been added in the vocabulary, make sure the associated word embeddings are fine-tuned or trained.\n",
      "Some weights of BertForSequenceClassification were not initialized from the model checkpoint at sentence-transformers/all-MiniLM-L6-v2 and are newly initialized: ['classifier.weight', 'classifier.bias']\n",
      "You should probably TRAIN this model on a down-stream task to be able to use it for predictions and inference.\n"
     ]
    }
   ],
   "source": [
    "# Initialize models and tokenizers\n",
    "model_summarization = T5ForConditionalGeneration.from_pretrained('t5-small')\n",
    "tokenizer_summarization = T5Tokenizer.from_pretrained('t5-small')\n",
    "\n",
    "model_sentiment = AutoModelForSequenceClassification.from_pretrained('sentence-transformers/all-MiniLM-L6-v2')\n",
    "tokenizer_sentiment = AutoTokenizer.from_pretrained('sentence-transformers/all-MiniLM-L6-v2')"
   ]
  },
  {
   "cell_type": "code",
   "execution_count": 12,
   "id": "fec96700",
   "metadata": {},
   "outputs": [],
   "source": [
    "# Define summarization function\n",
    "def summarize_text(text, out_length):\n",
    "    inputs = tokenizer_summarization.encode(\n",
    "        \"summarize: \" + text,\n",
    "        return_tensors='pt',\n",
    "        max_length=512,\n",
    "        truncation=True,\n",
    "        padding='max_length'\n",
    "    )\n",
    "    summary_ids = model_summarization.generate(\n",
    "        inputs,\n",
    "        max_length=out_length,\n",
    "        num_beams=5\n",
    "    )\n",
    "    return tokenizer_summarization.decode(summary_ids[0], skip_special_tokens=True)"
   ]
  },
  {
   "cell_type": "code",
   "execution_count": 13,
   "id": "007f5696",
   "metadata": {},
   "outputs": [],
   "source": [
    "# Define sentiment analysis function\n",
    "def predict_sentiment(text):\n",
    "    inputs = tokenizer_sentiment(text, return_tensors='pt')\n",
    "    outputs = model_sentiment(**inputs)\n",
    "    sentiment = 'Positive' if outputs.logits.argmax().item() ==   1 else 'Negative'\n",
    "    return sentiment"
   ]
  },
  {
   "cell_type": "code",
   "execution_count": 14,
   "id": "622196d0",
   "metadata": {},
   "outputs": [],
   "source": [
    "# Define a wrapper function that decides whether to summarize or analyze sentiment\n",
    "def summarize_or_analyze(text, task, out_length):\n",
    "    if task == 'summarize':\n",
    "        return summarize_text(text, out_length)\n",
    "    elif task == 'analyze sentiment':\n",
    "        return predict_sentiment(text)\n",
    "    else:\n",
    "        return \"Invalid task selected.\""
   ]
  },
  {
   "cell_type": "code",
   "execution_count": 16,
   "id": "3a578f06",
   "metadata": {},
   "outputs": [],
   "source": [
    "# Create Gradio interface with conditional logic\n",
    "iface = gr.Interface(\n",
    "    fn=summarize_or_analyze,\n",
    "    inputs=[gr.Textbox(lines=10, placeholder='Enter Text Here...', label='Input text'),   \n",
    "            gr.Radio(['summarize', 'analyze sentiment'], label='Task'),\n",
    "            gr.Slider(minimum=10, maximum=100, step=1, label='Summary Length')],\n",
    "    outputs=gr.Textbox(label='Result'),\n",
    "    title='Text Summarizer & Sentiment Analyzer'\n",
    ")"
   ]
  },
  {
   "cell_type": "code",
   "execution_count": 17,
   "id": "fc528753",
   "metadata": {},
   "outputs": [
    {
     "name": "stdout",
     "output_type": "stream",
     "text": [
      "Running on local URL:  http://127.0.0.1:7863\n",
      "\n",
      "To create a public link, set `share=True` in `launch()`.\n"
     ]
    },
    {
     "data": {
      "text/html": [
       "<div><iframe src=\"http://127.0.0.1:7863/\" width=\"100%\" height=\"500\" allow=\"autoplay; camera; microphone; clipboard-read; clipboard-write;\" frameborder=\"0\" allowfullscreen></iframe></div>"
      ],
      "text/plain": [
       "<IPython.core.display.HTML object>"
      ]
     },
     "metadata": {},
     "output_type": "display_data"
    },
    {
     "data": {
      "text/plain": []
     },
     "execution_count": 17,
     "metadata": {},
     "output_type": "execute_result"
    }
   ],
   "source": [
    "# Launch the Gradio app\n",
    "iface.launch()"
   ]
  },
  {
   "cell_type": "code",
   "execution_count": null,
   "id": "cb107a12",
   "metadata": {},
   "outputs": [],
   "source": []
  }
 ],
 "metadata": {
  "kernelspec": {
   "display_name": "Python 3 (ipykernel)",
   "language": "python",
   "name": "python3"
  },
  "language_info": {
   "codemirror_mode": {
    "name": "ipython",
    "version": 3
   },
   "file_extension": ".py",
   "mimetype": "text/x-python",
   "name": "python",
   "nbconvert_exporter": "python",
   "pygments_lexer": "ipython3",
   "version": "3.11.5"
  }
 },
 "nbformat": 4,
 "nbformat_minor": 5
}
